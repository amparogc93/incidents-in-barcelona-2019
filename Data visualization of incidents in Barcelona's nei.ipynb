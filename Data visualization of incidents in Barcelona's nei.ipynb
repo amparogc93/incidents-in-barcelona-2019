{
    "cells": [
        {
            "cell_type": "markdown",
            "metadata": {
                "collapsed": true
            },
            "source": "# Data visualization of incidents in Barcelona's neighborhoods 2019"
        },
        {
            "cell_type": "markdown",
            "metadata": {},
            "source": "#### Import libraries"
        },
        {
            "cell_type": "code",
            "execution_count": null,
            "metadata": {},
            "outputs": [],
            "source": "import numpy as np # library to handle data in a vectorized manner\n\nimport pandas as pd # library for data analsysis\npd.set_option('display.max_columns', None)\npd.set_option('display.max_rows', None)\n\nfrom pandas.io.json import json_normalize # tranform JSON file into a pandas dataframe\nimport json # library to handle JSON files\n\nfrom geopy.geocoders import Nominatim # convert an address into latitude and longitude values\n\n# Matplotlib and associated plotting modules\nimport matplotlib.cm as cm\nimport matplotlib.colors as colors\n\n# import k-means from clustering stage\nfrom sklearn.cluster import KMeans\n\nprint('Libraries imported.')"
        },
        {
            "cell_type": "markdown",
            "metadata": {},
            "source": "#### Obtain neighborhood database with coordinates"
        },
        {
            "cell_type": "code",
            "execution_count": null,
            "metadata": {},
            "outputs": [],
            "source": "import types\nfrom botocore.client import Config\nimport ibm_boto3"
        },
        {
            "cell_type": "code",
            "execution_count": null,
            "metadata": {},
            "outputs": [],
            "source": "# The code was removed by Watson Studio for sharing."
        },
        {
            "cell_type": "code",
            "execution_count": null,
            "metadata": {},
            "outputs": [],
            "source": "body = client_335529e8571343eaa4cecdd51c945c46.get_object(Bucket='capstoneproject-donotdelete-pr-q6jyeyrogmggrb',Key='neighborhoods_coordinates_barcelona.csv')['Body']\n# add missing __iter__ method, so pandas accepts body as file-like object\nif not hasattr(body, \"__iter__\"): body.__iter__ = types.MethodType( __iter__, body )\n\ndf_coordinates = pd.read_csv(body)\ndf_coordinates.head()"
        },
        {
            "cell_type": "markdown",
            "metadata": {},
            "source": "#### Removed columns from df_coordinates"
        },
        {
            "cell_type": "code",
            "execution_count": null,
            "metadata": {},
            "outputs": [],
            "source": "new_columns = ['Neighborhood Code', 'Neighborhood Latitude', 'Neighborhood Longitude']\ndf_coordinates = df_coordinates.loc[:, new_columns]\ndf_coordinates.head()"
        },
        {
            "cell_type": "markdown",
            "metadata": {},
            "source": "## Clean Data"
        },
        {
            "cell_type": "markdown",
            "metadata": {},
            "source": "#### Import "
        },
        {
            "cell_type": "code",
            "execution_count": null,
            "metadata": {},
            "outputs": [],
            "source": "def __iter__(self): return 0\n\nbody = client_335529e8571343eaa4cecdd51c945c46.get_object(Bucket='capstoneproject-donotdelete-pr-q6jyeyrogmggrb',Key='2019_incidents_gestionats_gub.csv')['Body']\n# add missing __iter__ method, so pandas accepts body as file-like object\nif not hasattr(body, \"__iter__\"): body.__iter__ = types.MethodType( __iter__, body )\n\ndf = pd.read_csv(body)\ndf.head()"
        },
        {
            "cell_type": "markdown",
            "metadata": {},
            "source": "#### Select needed columns"
        },
        {
            "cell_type": "code",
            "execution_count": null,
            "metadata": {},
            "outputs": [],
            "source": "df.columns"
        },
        {
            "cell_type": "code",
            "execution_count": null,
            "metadata": {},
            "outputs": [],
            "source": "new_columns = ['Descripcio_Incident', 'Codi_districte', 'Nom_districte', 'Codi_barri', 'Nom_barri', 'Mes_any', 'Numero_incidents_GUB']\ndf = df.loc[:, new_columns]\ndf.head()"
        },
        {
            "cell_type": "code",
            "execution_count": null,
            "metadata": {},
            "outputs": [],
            "source": "df.dtypes"
        },
        {
            "cell_type": "markdown",
            "metadata": {},
            "source": "#### Change columns names"
        },
        {
            "cell_type": "code",
            "execution_count": null,
            "metadata": {},
            "outputs": [],
            "source": "new_columns_name_dict = {'Descripcio_Incident': 'Incident', 'Codi_barri': 'Neighborhood Code', 'Nom_barri': 'Neighborhood', 'Codi_districte': 'District Code', 'Nom_districte': 'Disctrict', 'Mes_any' : 'Month', 'Numero_incidents_GUB': 'Number of Incidents'}\ndf.rename(columns=new_columns_name_dict, inplace=True)\ndf.head()"
        },
        {
            "cell_type": "code",
            "execution_count": null,
            "metadata": {},
            "outputs": [],
            "source": "df.shape"
        },
        {
            "cell_type": "code",
            "execution_count": null,
            "metadata": {},
            "outputs": [],
            "source": "df[\"Neighborhood\"].unique()"
        },
        {
            "cell_type": "markdown",
            "metadata": {},
            "source": "#### Removed NaN and Desconegut from Neighborhood Column"
        },
        {
            "cell_type": "code",
            "execution_count": null,
            "metadata": {},
            "outputs": [],
            "source": "# Get names of indexes for which column Age has value 30\nindexNames = df[df['Neighborhood'] == 'Desconegut'].index\n# Delete these row indexes from dataFrame\ndf.drop(indexNames , inplace=True)"
        },
        {
            "cell_type": "code",
            "execution_count": null,
            "metadata": {},
            "outputs": [],
            "source": "df = df.dropna(subset=['Neighborhood'], axis=0).reset_index(drop=True)"
        },
        {
            "cell_type": "code",
            "execution_count": null,
            "metadata": {},
            "outputs": [],
            "source": "df[\"Neighborhood\"].unique()"
        },
        {
            "cell_type": "markdown",
            "metadata": {},
            "source": "#### Change columns types"
        },
        {
            "cell_type": "code",
            "execution_count": null,
            "metadata": {},
            "outputs": [],
            "source": "df = df.astype({'District Code': 'int64', 'Number of Incidents': 'int64'})"
        },
        {
            "cell_type": "code",
            "execution_count": null,
            "metadata": {},
            "outputs": [],
            "source": "df.dtypes"
        },
        {
            "cell_type": "markdown",
            "metadata": {},
            "source": "#### Add the coordinates to the existing data frame"
        },
        {
            "cell_type": "code",
            "execution_count": null,
            "metadata": {},
            "outputs": [],
            "source": "# Merge both data frames so all the neighborhoods have their coordinates\ndf = pd.merge(df, df_coordinates, how='left', on='Neighborhood Code')\ndf.head()"
        },
        {
            "cell_type": "code",
            "execution_count": null,
            "metadata": {},
            "outputs": [],
            "source": "df.shape"
        },
        {
            "cell_type": "code",
            "execution_count": null,
            "metadata": {},
            "outputs": [],
            "source": "df = df.dropna(subset=['Neighborhood Latitude'], axis=0).reset_index(drop=True)\ndf.head()"
        },
        {
            "cell_type": "code",
            "execution_count": null,
            "metadata": {},
            "outputs": [],
            "source": "df.shape"
        },
        {
            "cell_type": "markdown",
            "metadata": {},
            "source": "#### Convert Month column in one column for each month"
        },
        {
            "cell_type": "code",
            "execution_count": null,
            "metadata": {},
            "outputs": [],
            "source": "# Turning categorical variables into quantitative variables\ndummy_variable = pd.get_dummies(df['Month'])"
        },
        {
            "cell_type": "code",
            "execution_count": null,
            "metadata": {},
            "outputs": [],
            "source": "# Concat new columns\n# merge data frame \"df\" and \"dummy_variable_1\" \ndf_incidents_months = pd.concat([df, dummy_variable], axis=1)\n\n# Drop original Month column\ndf_incidents_months.drop('Month', axis = 1, inplace=True)\ndf_incidents_months.head()"
        },
        {
            "cell_type": "code",
            "execution_count": null,
            "metadata": {},
            "outputs": [],
            "source": "# Order Months columns\ncolumn_order = ['District Code', 'Disctrict', 'Neighborhood Code', 'Neighborhood', 'Incident', 'Number of Incidents', 'Neighborhood Latitude', 'Neighborhood Longitude', '1', '2', '3', '4', '5', '6', '7', '8', '9', '10', '11', '12']\ndf_incidents_months = df_incidents_months.reindex(columns=column_order)\ndf_incidents_months.head()"
        },
        {
            "cell_type": "markdown",
            "metadata": {},
            "source": "#### Add the number of incidents to the months columns"
        },
        {
            "cell_type": "code",
            "execution_count": null,
            "metadata": {},
            "outputs": [],
            "source": "number_incidents_month = df_incidents_months[['1', '2', '3', '4', '5', '6', '7', '8', '9', '10', '11', '12']].multiply(df_incidents_months['Number of Incidents'], axis=\"index\")"
        },
        {
            "cell_type": "code",
            "execution_count": null,
            "metadata": {},
            "outputs": [],
            "source": "number_incidents_month.head()"
        },
        {
            "cell_type": "code",
            "execution_count": null,
            "metadata": {},
            "outputs": [],
            "source": "df_incidents_months.drop(['Number of Incidents', '1', '2', '3', '4', '5', '6', '7', '8', '9', '10', '11', '12'], axis = 1, inplace=True)\ndf_incidents_months.head()"
        },
        {
            "cell_type": "code",
            "execution_count": null,
            "metadata": {},
            "outputs": [],
            "source": "df_incidents_months = pd.concat([df_incidents_months, number_incidents_month], axis=1)\ndf_incidents_months.head()"
        },
        {
            "cell_type": "markdown",
            "metadata": {},
            "source": "#### Sum all the incidents by neighborhood"
        },
        {
            "cell_type": "code",
            "execution_count": null,
            "metadata": {},
            "outputs": [],
            "source": "df_neigh_sum = df_incidents_months.drop(['Incident'], axis=1)\ndf_neigh_sum.head()"
        },
        {
            "cell_type": "code",
            "execution_count": null,
            "metadata": {},
            "outputs": [],
            "source": "df_neigh_sum = df_incidents_months.groupby(['Neighborhood'])[['1', '2', '3', '4', '5', '6', '7', '8', '9', '10', '11', '12']].agg('sum')\ndf_neigh_sum.head()"
        },
        {
            "cell_type": "code",
            "execution_count": null,
            "metadata": {},
            "outputs": [],
            "source": "df_neigh_sum['Total'] = df_neigh_sum.sum(axis=1)\ndf_neigh_sum.head()"
        },
        {
            "cell_type": "code",
            "execution_count": null,
            "metadata": {},
            "outputs": [],
            "source": "df_neigh_sum.sort_values(by='Total', ascending = False, inplace=True)\ndf_neigh_sum.head()"
        },
        {
            "cell_type": "markdown",
            "metadata": {},
            "source": "#### Sum all the incidents by Incident and neighborhood"
        },
        {
            "cell_type": "code",
            "execution_count": null,
            "metadata": {},
            "outputs": [],
            "source": "df_incidentsby_neigh_sum = df_incidents_months.groupby(['Neighborhood','Incident'])[['1', '2', '3', '4', '5', '6', '7', '8', '9', '10', '11', '12']].agg('sum')\ndf_incidentsby_neigh_sum.head()"
        },
        {
            "cell_type": "code",
            "execution_count": null,
            "metadata": {},
            "outputs": [],
            "source": "df_incidentsby_neigh_sum['Total'] = df_incidentsby_neigh_sum.sum(axis=1)\ndf_incidentsby_neigh_sum.head()"
        },
        {
            "cell_type": "code",
            "execution_count": null,
            "metadata": {},
            "outputs": [],
            "source": "df_incidentsby_neigh_sum.sort_values(by='Total', ascending = False, inplace=True)\ndf_incidentsby_neigh_sum.head()"
        },
        {
            "cell_type": "markdown",
            "metadata": {},
            "source": "#### Count of incidents"
        },
        {
            "cell_type": "code",
            "execution_count": null,
            "metadata": {},
            "outputs": [],
            "source": "df_incidents_sum = df_incidents_months.groupby(['Incident'])[['1', '2', '3', '4', '5', '6', '7', '8', '9', '10', '11', '12']].agg('sum')\ndf_incidents_sum.head()"
        },
        {
            "cell_type": "code",
            "execution_count": null,
            "metadata": {},
            "outputs": [],
            "source": "df_incidents_sum['Total'] = df_incidents_sum.sum(axis=1)\ndf_incidents_sum.head()"
        },
        {
            "cell_type": "code",
            "execution_count": null,
            "metadata": {},
            "outputs": [],
            "source": "df_incidents_sum.sort_values(by='Total', ascending = False, inplace=True)\ndf_incidents_sum.head()"
        },
        {
            "cell_type": "markdown",
            "metadata": {},
            "source": "## Data Visual Analysis"
        },
        {
            "cell_type": "code",
            "execution_count": null,
            "metadata": {},
            "outputs": [],
            "source": "%matplotlib inline \n\nimport matplotlib as mpl\nimport matplotlib.pyplot as plt"
        },
        {
            "cell_type": "markdown",
            "metadata": {},
            "source": "### Visualize months vs number of incidents in each neighborhood"
        },
        {
            "cell_type": "code",
            "execution_count": null,
            "metadata": {},
            "outputs": [],
            "source": "months = list(map(str, range(1, 13)))\nmonths"
        },
        {
            "cell_type": "code",
            "execution_count": null,
            "metadata": {},
            "outputs": [],
            "source": "#As there are many neighborhoods, just the 10th firts with the higher incidents rates has been displayed\ndf_neigh_sum_sorted=df_neigh_sum.sort_values(by='Total', ascending=False)\ntop_df=df_neigh_sum_sorted.head(10)\ntop_df=top_df.loc[top_df.index, months]\ntop_df=top_df.transpose()"
        },
        {
            "cell_type": "code",
            "execution_count": null,
            "metadata": {
                "scrolled": true
            },
            "outputs": [],
            "source": "top_df.plot(kind='line', figsize=(10, 6))\n\nplt.title('Top 10 neighborhoods with highest number of incidents in each month of 2019')\nplt.ylabel('Number of incidents')\nplt.xlabel('Months')\nplt.legend(bbox_to_anchor=(1.05, 1), loc='upper left', borderaxespad=0.)\nplt.show()"
        },
        {
            "cell_type": "markdown",
            "metadata": {},
            "source": "### Visualize total number of incidents by neigborhood"
        },
        {
            "cell_type": "code",
            "execution_count": null,
            "metadata": {},
            "outputs": [],
            "source": "df_neigh_total = df_neigh_sum.drop(['1', '2', '3', '4', '5', '6', '7', '8', '9', '10', '11', '12'], axis = 1)\ndf_neigh_total.head()"
        },
        {
            "cell_type": "code",
            "execution_count": null,
            "metadata": {
                "scrolled": true
            },
            "outputs": [],
            "source": "df_neigh_total.plot(kind='bar', figsize=(10, 6))\n\nplt.xlabel('Neighborhood')\nplt.ylabel('Total')\nplt.title('Total number of incidents in 2019 by neighborhood')\n\nplt.show()"
        },
        {
            "cell_type": "markdown",
            "metadata": {},
            "source": "### Visualize total number of each type of incident"
        },
        {
            "cell_type": "code",
            "execution_count": null,
            "metadata": {},
            "outputs": [],
            "source": "df_incidents_total = df_incidents_sum.drop(['1', '2', '3', '4', '5', '6', '7', '8', '9', '10', '11', '12'], axis = 1)\ndf_incidents_total.head()"
        },
        {
            "cell_type": "code",
            "execution_count": null,
            "metadata": {},
            "outputs": [],
            "source": "# Remove white space at the end of Incidents values\ndf_incidents_total.index = df_incidents_total.index.str.rstrip()"
        },
        {
            "cell_type": "code",
            "execution_count": null,
            "metadata": {},
            "outputs": [],
            "source": "# As there are many types of incidents, just the 10th firts with the higher incidents rates has been displayed\ndf_incidents_total_sorted=df_incidents_total.sort_values(by='Total', ascending=False)\ntop_incidents_df=df_incidents_total_sorted.head(10)"
        },
        {
            "cell_type": "code",
            "execution_count": null,
            "metadata": {},
            "outputs": [],
            "source": "top_incidents_df.plot(kind='bar', figsize=(10, 6))\n\nplt.xlabel('Type of Incident')\nplt.ylabel('Total')\nplt.title('Top 10 total number of incidents in 2019 by type of incident')\n\nplt.show()"
        }
    ],
    "metadata": {
        "kernelspec": {
            "display_name": "Python 3.6",
            "language": "python",
            "name": "python3"
        },
        "language_info": {
            "codemirror_mode": {
                "name": "ipython",
                "version": 3
            },
            "file_extension": ".py",
            "mimetype": "text/x-python",
            "name": "python",
            "nbconvert_exporter": "python",
            "pygments_lexer": "ipython3",
            "version": "3.6.9"
        }
    },
    "nbformat": 4,
    "nbformat_minor": 1
}